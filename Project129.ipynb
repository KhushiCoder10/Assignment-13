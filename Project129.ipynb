{
  "nbformat": 4,
  "nbformat_minor": 0,
  "metadata": {
    "colab": {
      "provenance": [],
      "authorship_tag": "ABX9TyPp/r+lOwRXYtisOmWcTibd",
      "include_colab_link": true
    },
    "kernelspec": {
      "name": "python3",
      "display_name": "Python 3"
    },
    "language_info": {
      "name": "python"
    }
  },
  "cells": [
    {
      "cell_type": "markdown",
      "metadata": {
        "id": "view-in-github",
        "colab_type": "text"
      },
      "source": [
        "<a href=\"https://colab.research.google.com/github/KhushiCoder10/Assignment-13/blob/main/Project129.ipynb\" target=\"_parent\"><img src=\"https://colab.research.google.com/assets/colab-badge.svg\" alt=\"Open In Colab\"/></a>"
      ]
    },
    {
      "cell_type": "code",
      "execution_count": null,
      "metadata": {
        "id": "LtDoI6RjHQJ4"
      },
      "outputs": [],
      "source": [
        "from bs4 import BeautifulSoup as bs\n",
        "import requests\n",
        "import pandas as pd\n",
        "\n",
        "\n",
        "url = 'https://en.wikipedia.org/wiki/List_of_brown_dwarfs'\n",
        "\n",
        "page = requests.get(url)\n",
        "print(page)\n",
        "\n",
        "soup = bs(page.text,'html.parser')\n",
        "\n",
        "star_table = soup.find_all('table')\n",
        "print(len(star_table))\n",
        "\n",
        "\n",
        "temp_list= []\n",
        "table_rows = star_table[4].find_all('tr')\n",
        "for tr in table_rows:\n",
        "    td = tr.find_all('td')\n",
        "    row = [i.text.rstrip() for i in td]\n",
        "    temp_list.append(row)\n",
        "print(temp_list)\n",
        "\n",
        "\n",
        "\n",
        "Star_names = []\n",
        "Distance =[]\n",
        "Mass = []\n",
        "Radius =[]\n",
        "\n",
        "\n",
        "for i in range(1,len(temp_list)):\n",
        "\n",
        "    Star_names.append(temp_list[i][0])\n",
        "    Distance.append(temp_list[i][5])\n",
        "    Mass.append(temp_list[i][7])\n",
        "    Radius.append(temp_list[i][8])\n",
        "\n",
        "df2 = pd.DataFrame(list(zip(Star_names,Distance,Mass,Radius,)),columns=['Star_name','Distance','Mass','Radius'])\n",
        "print(df2)\n",
        "\n",
        "df2.to_csv('dwarf_stars.csv')"
      ]
    }
  ]
}